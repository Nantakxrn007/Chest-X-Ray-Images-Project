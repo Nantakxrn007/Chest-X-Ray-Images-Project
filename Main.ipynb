{
 "cells": [
  {
   "cell_type": "markdown",
   "id": "d696f05c",
   "metadata": {},
   "source": [
    "## Sum model"
   ]
  },
  {
   "cell_type": "markdown",
   "id": "9d638eaa",
   "metadata": {},
   "source": []
  }
 ],
 "metadata": {
  "language_info": {
   "name": "python"
  }
 },
 "nbformat": 4,
 "nbformat_minor": 5
}
